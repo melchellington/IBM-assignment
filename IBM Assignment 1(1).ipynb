{
 "cells": [
  {
   "cell_type": "markdown",
   "id": "3080078b-2f3f-4230-aa87-4f40013b6806",
   "metadata": {},
   "source": [
    "# My Jupyter Notebook on IBM Watson Studio"
   ]
  },
  {
   "cell_type": "markdown",
   "id": "05dd8629-362a-4512-a759-6b31ba931d11",
   "metadata": {},
   "source": [
    "<b> Michelle Sullivan</b>"
   ]
  },
  {
   "cell_type": "markdown",
   "id": "7c5a530e-0d45-47bc-b134-e696c0472b7f",
   "metadata": {},
   "source": [
    "Unemployed, seeking Data Analyst roles"
   ]
  },
  {
   "cell_type": "markdown",
   "id": "53e8dac1-f68e-4018-9cd2-46c731861789",
   "metadata": {},
   "source": [
    "<i>I am interested in Data Science because it is one of the fastest growing fields with so many different aspects and uses.</i>"
   ]
  },
  {
   "cell_type": "markdown",
   "id": "c9144b64-13ce-4834-b755-f7eaa6f6635c",
   "metadata": {},
   "source": [
    "### My code in the next cell will say a friendly hello and calculate my age."
   ]
  },
  {
   "cell_type": "code",
   "execution_count": 13,
   "id": "b2ce8212-0d0c-4235-a8b0-596a4bff9383",
   "metadata": {},
   "outputs": [
    {
     "name": "stdout",
     "output_type": "stream",
     "text": [
      "Hello my friend! I am \n"
     ]
    },
    {
     "data": {
      "text/plain": [
       "39"
      ]
     },
     "execution_count": 13,
     "metadata": {},
     "output_type": "execute_result"
    }
   ],
   "source": [
    "print(\"Hello my friend! I am \")\n",
    "2021-1982"
   ]
  },
  {
   "cell_type": "markdown",
   "id": "9b4a33fa-0f21-4baa-babc-fc8cbeeaf2f7",
   "metadata": {},
   "source": [
    "![alt text](https://i.pinimg.com/originals/33/32/6d/33326dcddbf15c56d631e374b62338dc.jpg \"This is a cute picture of a cat.\")"
   ]
  },
  {
   "cell_type": "markdown",
   "id": "291998b4-dcf3-4333-ac79-e98613cb5fd7",
   "metadata": {},
   "source": [
    "This is a whole gallery of pictures of cats: [Cat Gallery](https://www.womansday.com/life/g32979681/cute-cat-photos/ \"Cat Gallery\")"
   ]
  },
  {
   "cell_type": "markdown",
   "id": "eaf72694-3023-4a83-9a68-2b1c315ca8f7",
   "metadata": {},
   "source": [
    "|Alive|Deceased|\n",
    "|-----|--------|\n",
    "|Juno|Puck"
   ]
  },
  {
   "cell_type": "code",
   "execution_count": null,
   "id": "b375a7af-58e8-4bc5-967d-e5e9102fd3ab",
   "metadata": {},
   "outputs": [],
   "source": []
  },
  {
   "cell_type": "code",
   "execution_count": null,
   "id": "e756e70d-f4a0-4de4-a0bb-8de596998aed",
   "metadata": {},
   "outputs": [],
   "source": []
  },
  {
   "cell_type": "code",
   "execution_count": null,
   "id": "68772743-7e0a-4031-9f8a-be9d4db4b08b",
   "metadata": {},
   "outputs": [],
   "source": []
  },
  {
   "cell_type": "code",
   "execution_count": null,
   "id": "e531e78f-1867-44c8-84d9-d91c6c5a542c",
   "metadata": {},
   "outputs": [],
   "source": []
  },
  {
   "cell_type": "code",
   "execution_count": null,
   "id": "f18a9783-2b34-419f-9c42-927db096b4bd",
   "metadata": {},
   "outputs": [],
   "source": []
  }
 ],
 "metadata": {
  "kernelspec": {
   "display_name": "Python 3",
   "language": "python",
   "name": "python3"
  },
  "language_info": {
   "codemirror_mode": {
    "name": "ipython",
    "version": 3
   },
   "file_extension": ".py",
   "mimetype": "text/x-python",
   "name": "python",
   "nbconvert_exporter": "python",
   "pygments_lexer": "ipython3",
   "version": "3.8.8"
  }
 },
 "nbformat": 4,
 "nbformat_minor": 5
}
