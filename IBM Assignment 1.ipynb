{
 "cells": [
  {
   "cell_type": "markdown",
   "id": "3080078b-2f3f-4230-aa87-4f40013b6806",
   "metadata": {},
   "source": [
    "# My Jupyter Notebook on IBM Watson Studio"
   ]
  },
  {
   "cell_type": "markdown",
   "id": "05dd8629-362a-4512-a759-6b31ba931d11",
   "metadata": {},
   "source": [
    "<b> Michelle Sullivan</b>"
   ]
  },
  {
   "cell_type": "markdown",
   "id": "7c5a530e-0d45-47bc-b134-e696c0472b7f",
   "metadata": {},
   "source": [
    "Unemployed, seeking Data Analyst roles"
   ]
  },
  {
   "cell_type": "markdown",
   "id": "53e8dac1-f68e-4018-9cd2-46c731861789",
   "metadata": {},
   "source": [
    "<i>I am interested in Data Science because it is one of the fastest growing fields with so many different aspects and uses.</i>"
   ]
  },
  {
   "cell_type": "markdown",
   "id": "c9144b64-13ce-4834-b755-f7eaa6f6635c",
   "metadata": {},
   "source": [
    "### My code in the next cell will say a friendly hello and calculate my age."
   ]
  },
  {
   "cell_type": "code",
   "execution_count": 13,
   "id": "b2ce8212-0d0c-4235-a8b0-596a4bff9383",
   "metadata": {},
   "outputs": [
    {
     "name": "stdout",
     "output_type": "stream",
     "text": [
      "Hello my friend! I am \n"
     ]
    },
    {
     "data": {
      "text/plain": [
       "39"
      ]
     },
     "execution_count": 13,
     "metadata": {},
     "output_type": "execute_result"
    }
   ],
   "source": [
    "print(\"Hello my friend! I am \")\n",
    "2021-1982"
   ]
  },
  {
   "cell_type": "markdown",
   "id": "9b4a33fa-0f21-4baa-babc-fc8cbeeaf2f7",
   "metadata": {},
   "source": [
    "![alt text](https://i.pinimg.com/originals/33/32/6d/33326dcddbf15c56d631e374b62338dc.jpg \"This is a cute picture of a cat.\")"
   ]
  },
  {
   "cell_type": "markdown",
   "id": "291998b4-dcf3-4333-ac79-e98613cb5fd7",
   "metadata": {},
   "source": [
    "This is a whole gallery of pictures of cats: [Cat Gallery](https://www.womansday.com/life/g32979681/cute-cat-photos/ \"Cat Gallery\")"
   ]
  },
  {
   "cell_type": "markdown",
   "id": "eaf72694-3023-4a83-9a68-2b1c315ca8f7",
   "metadata": {},
   "source": [
    "|Alive|Deceased|\n",
    "|-----|--------|\n",
    "|Juno|Puck"
   ]
  }
